{
 "cells": [
  {
   "cell_type": "code",
   "execution_count": 258,
   "metadata": {},
   "outputs": [],
   "source": [
    "class train_coach:\n",
    "    \n",
    "    a_number = None\n",
    "    \n",
    "    hook = None"
   ]
  },
  {
   "cell_type": "code",
   "execution_count": 259,
   "metadata": {},
   "outputs": [],
   "source": [
    "l = [25,36,92,48,53,77]\n"
   ]
  },
  {
   "cell_type": "code",
   "execution_count": 260,
   "metadata": {},
   "outputs": [],
   "source": [
    "def connect_coaches(class_instance,engine,last_coach):\n",
    "    \n",
    "    global first_coach\n",
    "    \n",
    "    if engine == last_coach:\n",
    "        \n",
    "        last_coach = class_instance\n",
    "        \n",
    "        first_coach = last_coach\n",
    "    \n",
    "    else:\n",
    "        \n",
    "        last_coach.hook = class_instance\n",
    "        \n",
    "        last_coach = class_instance\n",
    "        \n",
    "    return last_coach"
   ]
  },
  {
   "cell_type": "code",
   "execution_count": 261,
   "metadata": {},
   "outputs": [],
   "source": [
    "def print_linked_list(engine_address):\n",
    "    \n",
    "    if engine_address == None:\n",
    "        \n",
    "        return\n",
    "    \n",
    "    else:\n",
    "        \n",
    "        print(engine_address.a_number)\n",
    "        \n",
    "        print_linked_list(engine_address.hook)"
   ]
  },
  {
   "cell_type": "code",
   "execution_count": 262,
   "metadata": {},
   "outputs": [],
   "source": [
    "def insert(loc,engine_address,value):\n",
    "    \n",
    "    global first_coach\n",
    "    \n",
    "    global last_coach\n",
    "    \n",
    "    if (loc<0):\n",
    "        \n",
    "        print(\"Invalid Index\")\n",
    "        \n",
    "        return\n",
    "    \n",
    "    if(engine_address == None):\n",
    "        \n",
    "        print(\"Invalid Index\")\n",
    "        \n",
    "        return\n",
    "    \n",
    "    #Insertion before the first node\n",
    "    \n",
    "    if (loc==0):\n",
    "        \n",
    "        print(\"This is first Index Position\")\n",
    "        \n",
    "        new_coach = train_coach()\n",
    "        \n",
    "        new_coach.a_number = value\n",
    "        \n",
    "        new_coach.hook = engine_address\n",
    "        \n",
    "        first_coach = new_coach\n",
    "        \n",
    "        \n",
    "        return\n",
    "        \n",
    "    \n",
    "    if loc == 1:\n",
    "        \n",
    "        new_coach = train_coach()\n",
    "        \n",
    "        new_coach.a_number = value\n",
    "        \n",
    "        temp_address = engine_address.hook\n",
    "        \n",
    "        #last_coach needs to be updated in case of insert after the last node\n",
    "        \n",
    "        if(engine_address.hook==None):\n",
    "            \n",
    "            print(\"engine_address.hook==None\")\n",
    "            \n",
    "            last_coach=new_coach\n",
    "        \n",
    "        engine_address.hook = new_coach\n",
    "        \n",
    "        new_coach.hook = temp_address\n",
    "        \n",
    "        return \n",
    "    \n",
    "    loc = loc - 1\n",
    "    \n",
    "    insert(loc,engine_address.hook,value)"
   ]
  },
  {
   "cell_type": "code",
   "execution_count": 263,
   "metadata": {},
   "outputs": [],
   "source": [
    "def deletion(loc,engine_address):\n",
    "    \n",
    "    global first_coach\n",
    "    \n",
    "    global last_coach\n",
    "    \n",
    "    if (loc<0):\n",
    "        \n",
    "        print(\"Invalid Index\")\n",
    "        \n",
    "        return\n",
    "    \n",
    "    if(engine_address == None):\n",
    "        \n",
    "        print(\"Invalid Index\")\n",
    "        \n",
    "        return\n",
    "    \n",
    "    if(loc==0):\n",
    "        \n",
    "        temp=first_coach\n",
    "        \n",
    "        first_coach=first_coach.hook\n",
    "        \n",
    "        a=temp.a_number\n",
    "        \n",
    "        print(\"Data of Deleted Node is: \",a)\n",
    "        \n",
    "        del temp\n",
    "        \n",
    "        return a\n",
    "    \n",
    "    if(loc==1):\n",
    "        \n",
    "        temp = engine_address.hook\n",
    "        \n",
    "        engine_address.hook = temp.hook\n",
    "        \n",
    "        a=temp.a_number\n",
    "        \n",
    "        if(temp.hook == None):\n",
    "            last_coach = engine_address\n",
    "        \n",
    "        print(\"Data of Deleted Node is: \",a)\n",
    "        \n",
    "        del temp\n",
    "        \n",
    "        return a\n",
    "    loc = loc - 1\n",
    "    \n",
    "    deletion(loc,engine_address.hook)\n",
    "    "
   ]
  },
  {
   "cell_type": "code",
   "execution_count": 287,
   "metadata": {},
   "outputs": [],
   "source": [
    "def search(value,engine_address):\n",
    "    \n",
    "    flag=0\n",
    "    \n",
    "    if(engine_address.a_number==value):\n",
    "        \n",
    "        print(\"Value Found at address: \", engine_address)\n",
    "        \n",
    "        return\n",
    "    \n",
    "    elif(engine_address.hook==None):\n",
    "        \n",
    "        print(\"Unsucessfull Search\")\n",
    "        \n",
    "        return\n",
    "        \n",
    "    else:\n",
    "        search(value,engine_address.hook)   "
   ]
  },
  {
   "cell_type": "code",
   "execution_count": 288,
   "metadata": {},
   "outputs": [],
   "source": [
    "engine = None\n",
    "\n",
    "last_coach=None\n",
    "\n",
    "for number in l:\n",
    "    \n",
    "    class_instance = train_coach()\n",
    "    \n",
    "    class_instance.a_number = number\n",
    "    \n",
    "    last_coach = connect_coaches(class_instance,engine,last_coach)"
   ]
  },
  {
   "cell_type": "code",
   "execution_count": 289,
   "metadata": {},
   "outputs": [
    {
     "name": "stdout",
     "output_type": "stream",
     "text": [
      "25\n",
      "36\n",
      "92\n",
      "48\n",
      "53\n",
      "77\n"
     ]
    }
   ],
   "source": [
    "print_linked_list(first_coach)"
   ]
  },
  {
   "cell_type": "code",
   "execution_count": 291,
   "metadata": {},
   "outputs": [
    {
     "name": "stdout",
     "output_type": "stream",
     "text": [
      "Unsucessfull Search\n"
     ]
    }
   ],
   "source": [
    "flag = search(727,first_coach)"
   ]
  },
  {
   "cell_type": "code",
   "execution_count": null,
   "metadata": {},
   "outputs": [],
   "source": []
  },
  {
   "cell_type": "code",
   "execution_count": null,
   "metadata": {},
   "outputs": [],
   "source": []
  }
 ],
 "metadata": {
  "kernelspec": {
   "display_name": "Python 3",
   "language": "python",
   "name": "python3"
  },
  "language_info": {
   "codemirror_mode": {
    "name": "ipython",
    "version": 3
   },
   "file_extension": ".py",
   "mimetype": "text/x-python",
   "name": "python",
   "nbconvert_exporter": "python",
   "pygments_lexer": "ipython3",
   "version": "3.7.6"
  }
 },
 "nbformat": 4,
 "nbformat_minor": 2
}
