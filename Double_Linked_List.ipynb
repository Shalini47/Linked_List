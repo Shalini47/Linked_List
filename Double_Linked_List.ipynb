{
 "cells": [
  {
   "cell_type": "code",
   "execution_count": 1,
   "metadata": {},
   "outputs": [],
   "source": [
    "class DLL:\n",
    "    \n",
    "    a_num = None\n",
    "    \n",
    "    Previous_hook= None\n",
    "    \n",
    "    Next_hook = None"
   ]
  },
  {
   "cell_type": "code",
   "execution_count": 2,
   "metadata": {},
   "outputs": [],
   "source": [
    "l = [12,23,45,67,78,89]"
   ]
  },
  {
   "cell_type": "code",
   "execution_count": 3,
   "metadata": {},
   "outputs": [],
   "source": [
    "def connect_coaches(class_instance,engine,last_coach):\n",
    "    \n",
    "    global first_coach\n",
    "    \n",
    "    #global last_coach\n",
    "    \n",
    "    if engine == last_coach:\n",
    "        \n",
    "        last_coach = class_instance\n",
    "        \n",
    "        first_coach = last_coach\n",
    "    \n",
    "    else:\n",
    "        \n",
    "        last_coach.Next_hook = class_instance\n",
    "        \n",
    "        class_instance.Previous_hook=last_coach\n",
    "        \n",
    "        last_coach = class_instance\n",
    "        \n",
    "        #print(\"Prev: \",last_coach.Previous_hook,\"\\n\")\n",
    "        \n",
    "    return last_coach"
   ]
  },
  {
   "cell_type": "code",
   "execution_count": 4,
   "metadata": {},
   "outputs": [],
   "source": [
    "def insert(loc,engine_address,value):\n",
    "    global first_coach\n",
    "    \n",
    "    global last_coach\n",
    "    \n",
    "    if (loc<0):\n",
    "        \n",
    "        print(\"Invalid Index\")\n",
    "        \n",
    "        return\n",
    "    \n",
    "    if(engine_address == None):\n",
    "        \n",
    "        print(\"Invalid Index\")\n",
    "        \n",
    "        return\n",
    "    \n",
    "    #Insertion before the first node\n",
    "    \n",
    "    if (loc==0):\n",
    "        \n",
    "        print(\"This is first Index Position\")\n",
    "        \n",
    "        new_coach = DLL()\n",
    "        \n",
    "        new_coach.a_num = value\n",
    "        \n",
    "        new_coach.Next_hook = engine_address\n",
    "        \n",
    "        first_coach.Previous_hook = new_coach\n",
    "        \n",
    "        first_coach = new_coach\n",
    "        \n",
    "        return\n",
    "    \n",
    "    #insertion at intermediate Position or after the last node\n",
    "    \n",
    "    if (loc == 1):\n",
    "        \n",
    "        new_coach = DLL()\n",
    "        \n",
    "        new_coach.a_num = value\n",
    "        \n",
    "        temp_address = engine_address.Next_hook\n",
    "        \n",
    "        new_coach.Next_hook = engine_address.Next_hook\n",
    "        \n",
    "        new_coach.Previous_hook = engine_address\n",
    "        \n",
    "        engine_address.Next_hook = new_coach\n",
    "        \n",
    "        #condition to check for last node\n",
    "        \n",
    "        if(temp_address != None):\n",
    "            temp_address.Previous_hook = new_coach\n",
    "        \n",
    "        return\n",
    "    loc = loc - 1\n",
    "    \n",
    "    insert(loc,engine_address.Next_hook,value)"
   ]
  },
  {
   "cell_type": "code",
   "execution_count": 65,
   "metadata": {},
   "outputs": [],
   "source": [
    "def deletion(loc,engine_address):\n",
    "    \n",
    "    global first_coach\n",
    "    \n",
    "    global last_coach\n",
    "    \n",
    "    if (loc<0):\n",
    "        \n",
    "        print(\"Invalid Index\")\n",
    "        \n",
    "        return\n",
    "    \n",
    "    if(engine_address == None):\n",
    "        \n",
    "        print(\"Invalid Index\")\n",
    "        \n",
    "        return\n",
    "    \n",
    "    if(loc==0):\n",
    "        \n",
    "        temp=first_coach\n",
    "        \n",
    "        first_coach=first_coach.Next_hook\n",
    "        \n",
    "        a=temp.a_num\n",
    "        \n",
    "        print(\"Data of Deleted Node is: \",a)\n",
    "        \n",
    "        del temp\n",
    "        \n",
    "        return a\n",
    "    \n",
    "    if(loc==1):\n",
    "        \n",
    "        temp1 = engine_address.Next_hook\n",
    "        \n",
    "        temp2 = temp1.Next_hook\n",
    "        \n",
    "        engine_address.Next_hook = temp1.Next_hook\n",
    "        \n",
    "        #condition for Last node deletion\n",
    "        \n",
    "        if(temp2 != None):\n",
    "            temp2.Previous_hook = engine_address\n",
    "        \n",
    "        a=temp1.a_num\n",
    "        \n",
    "        if(temp1.Next_hook == None):\n",
    "            last_coach = engine_address\n",
    "        \n",
    "        print(\"Data of Deleted Node is: \",a)\n",
    "        \n",
    "        del temp1\n",
    "        \n",
    "        return a\n",
    "    loc = loc - 1\n",
    "    \n",
    "    deletion(loc,engine_address.Next_hook)"
   ]
  },
  {
   "cell_type": "code",
   "execution_count": 79,
   "metadata": {},
   "outputs": [],
   "source": [
    "def search(value,engine_address):\n",
    "    \n",
    "    flag=0\n",
    "    \n",
    "    if(engine_address.a_num==value):\n",
    "        \n",
    "        print(\"Value Found at address: \", engine_address)\n",
    "        \n",
    "        return\n",
    "    \n",
    "    elif(engine_address.Next_hook==None):\n",
    "        \n",
    "        print(\"Unsucessfull Search\")\n",
    "        \n",
    "        return\n",
    "        \n",
    "    else:\n",
    "        search(value,engine_address.Next_hook)  "
   ]
  },
  {
   "cell_type": "code",
   "execution_count": 80,
   "metadata": {},
   "outputs": [],
   "source": [
    "def print_linked_list(engine_address):\n",
    "    \n",
    "    if engine_address == None:\n",
    "        \n",
    "        return\n",
    "    \n",
    "    else:\n",
    "        \n",
    "        print(engine_address.a_num)\n",
    "        \n",
    "        print_linked_list(engine_address.Next_hook)"
   ]
  },
  {
   "cell_type": "code",
   "execution_count": 81,
   "metadata": {},
   "outputs": [],
   "source": [
    "engine = None\n",
    "\n",
    "last_coach=None\n",
    "\n",
    "for number in l:\n",
    "    \n",
    "    class_instance = DLL()\n",
    "    \n",
    "    class_instance.a_num = number\n",
    "    \n",
    "    last_coach = connect_coaches(class_instance,engine,last_coach)\n",
    "    \n",
    "    #print(\"Main Function Prev: \",last_coach.Previous_hook,\"\\n\")"
   ]
  },
  {
   "cell_type": "code",
   "execution_count": 82,
   "metadata": {},
   "outputs": [
    {
     "name": "stdout",
     "output_type": "stream",
     "text": [
      "12\n",
      "23\n",
      "45\n",
      "67\n",
      "78\n",
      "89\n"
     ]
    }
   ],
   "source": [
    "print_linked_list(first_coach)"
   ]
  },
  {
   "cell_type": "code",
   "execution_count": 77,
   "metadata": {},
   "outputs": [
    {
     "name": "stdout",
     "output_type": "stream",
     "text": [
      "Data of Deleted Node is:  67\n"
     ]
    }
   ],
   "source": [
    "deletion(3,first_coach)"
   ]
  },
  {
   "cell_type": "code",
   "execution_count": 78,
   "metadata": {},
   "outputs": [
    {
     "name": "stdout",
     "output_type": "stream",
     "text": [
      "12\n",
      "23\n",
      "45\n",
      "78\n",
      "89\n"
     ]
    }
   ],
   "source": [
    "print_linked_list(first_coach)"
   ]
  },
  {
   "cell_type": "code",
   "execution_count": 85,
   "metadata": {},
   "outputs": [
    {
     "name": "stdout",
     "output_type": "stream",
     "text": [
      "Unsucessfull Search\n"
     ]
    }
   ],
   "source": [
    "search(189,first_coach)"
   ]
  },
  {
   "cell_type": "code",
   "execution_count": null,
   "metadata": {},
   "outputs": [],
   "source": []
  }
 ],
 "metadata": {
  "kernelspec": {
   "display_name": "Python 3",
   "language": "python",
   "name": "python3"
  },
  "language_info": {
   "codemirror_mode": {
    "name": "ipython",
    "version": 3
   },
   "file_extension": ".py",
   "mimetype": "text/x-python",
   "name": "python",
   "nbconvert_exporter": "python",
   "pygments_lexer": "ipython3",
   "version": "3.7.6"
  }
 },
 "nbformat": 4,
 "nbformat_minor": 4
}
