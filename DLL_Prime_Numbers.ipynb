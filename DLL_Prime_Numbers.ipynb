{
 "cells": [
  {
   "cell_type": "code",
   "execution_count": 1,
   "metadata": {},
   "outputs": [],
   "source": [
    "import numpy as np"
   ]
  },
  {
   "cell_type": "markdown",
   "metadata": {},
   "source": [
    "# Generate 1000 Random Numbers"
   ]
  },
  {
   "cell_type": "code",
   "execution_count": 2,
   "metadata": {},
   "outputs": [],
   "source": [
    "num=np.random.randint(1,5000,1000)"
   ]
  },
  {
   "cell_type": "markdown",
   "metadata": {},
   "source": [
    "# Creation of list containing prime numbers"
   ]
  },
  {
   "cell_type": "code",
   "execution_count": 4,
   "metadata": {},
   "outputs": [],
   "source": [
    "prime=list()\n",
    "for i in range(1000):\n",
    "    if(num[i]%2==0):\n",
    "        continue\n",
    "    else:\n",
    "        for j in range(2,num[i]):\n",
    "            rem=num[i]%j\n",
    "            if(rem==0):\n",
    "                break\n",
    "            if(j==num[i]-1):\n",
    "                prime.append(num[i])"
   ]
  },
  {
   "cell_type": "markdown",
   "metadata": {},
   "source": [
    "# Class Structure for double linked list"
   ]
  },
  {
   "cell_type": "code",
   "execution_count": 6,
   "metadata": {},
   "outputs": [],
   "source": [
    "class DLL:\n",
    "    \n",
    "    a_num = None\n",
    "    \n",
    "    Previous_hook= None\n",
    "    \n",
    "    Next_hook = None"
   ]
  },
  {
   "cell_type": "markdown",
   "metadata": {},
   "source": [
    "# Connect nodes containing prime numbers"
   ]
  },
  {
   "cell_type": "code",
   "execution_count": 7,
   "metadata": {},
   "outputs": [],
   "source": [
    "def connect_coaches(class_instance,engine,last_coach):\n",
    "    \n",
    "    global first_coach\n",
    "    \n",
    "    #global last_coach\n",
    "    \n",
    "    if engine == last_coach:\n",
    "        \n",
    "        last_coach = class_instance\n",
    "        \n",
    "        first_coach = last_coach\n",
    "    \n",
    "    else:\n",
    "        \n",
    "        last_coach.Next_hook = class_instance\n",
    "        \n",
    "        class_instance.Previous_hook=last_coach\n",
    "        \n",
    "        last_coach = class_instance\n",
    "        \n",
    "        #print(\"Prev: \",last_coach.Previous_hook,\"\\n\")\n",
    "        \n",
    "    return last_coach"
   ]
  },
  {
   "cell_type": "markdown",
   "metadata": {},
   "source": [
    "# Print elements of Double linked list"
   ]
  },
  {
   "cell_type": "code",
   "execution_count": 8,
   "metadata": {},
   "outputs": [],
   "source": [
    "def print_linked_list(engine_address):\n",
    "    \n",
    "    if engine_address == None:\n",
    "        \n",
    "        return\n",
    "    \n",
    "    else:\n",
    "        \n",
    "        print(engine_address.a_num)\n",
    "        \n",
    "        print_linked_list(engine_address.Next_hook)"
   ]
  },
  {
   "cell_type": "markdown",
   "metadata": {},
   "source": [
    "# Calling Connect Coach function to insert prime numbers in Double Linked List"
   ]
  },
  {
   "cell_type": "code",
   "execution_count": 9,
   "metadata": {},
   "outputs": [],
   "source": [
    "engine = None\n",
    "\n",
    "last_coach=None\n",
    "\n",
    "for number in prime:\n",
    "    \n",
    "    class_instance = DLL()\n",
    "    \n",
    "    class_instance.a_num = number\n",
    "    \n",
    "    last_coach = connect_coaches(class_instance,engine,last_coach)\n",
    "    \n",
    "    #print(\"Main Function Prev: \",last_coach.Previous_hook,\"\\n\")"
   ]
  },
  {
   "cell_type": "code",
   "execution_count": 10,
   "metadata": {
    "collapsed": true
   },
   "outputs": [
    {
     "name": "stdout",
     "output_type": "stream",
     "text": [
      "2693\n",
      "2137\n",
      "1699\n",
      "1627\n",
      "1033\n",
      "577\n",
      "3217\n",
      "4649\n",
      "4721\n",
      "1201\n",
      "1553\n",
      "1039\n",
      "4597\n",
      "4729\n",
      "1303\n",
      "733\n",
      "181\n",
      "1607\n",
      "4241\n",
      "1453\n",
      "859\n",
      "449\n",
      "2473\n",
      "103\n",
      "181\n",
      "1753\n",
      "4229\n",
      "4049\n",
      "3331\n",
      "2957\n",
      "2131\n",
      "4483\n",
      "97\n",
      "149\n",
      "4603\n",
      "4079\n",
      "1831\n",
      "223\n",
      "4787\n",
      "3889\n",
      "347\n",
      "3929\n",
      "1373\n",
      "1657\n",
      "4783\n",
      "2689\n",
      "4523\n",
      "3821\n",
      "3919\n",
      "4079\n",
      "4129\n",
      "151\n",
      "2297\n",
      "2237\n",
      "881\n",
      "61\n",
      "1607\n",
      "4001\n",
      "3559\n",
      "4451\n",
      "4567\n",
      "61\n",
      "3209\n",
      "4673\n",
      "2767\n",
      "1667\n",
      "1213\n",
      "2819\n",
      "241\n",
      "2857\n",
      "1193\n",
      "653\n",
      "677\n",
      "4567\n",
      "2833\n",
      "4339\n",
      "1993\n",
      "2719\n",
      "3769\n",
      "3637\n",
      "2393\n",
      "1433\n",
      "2579\n",
      "1499\n",
      "359\n",
      "2857\n",
      "163\n",
      "2621\n",
      "607\n",
      "4729\n",
      "1447\n",
      "1283\n",
      "3361\n",
      "311\n",
      "4133\n",
      "3319\n",
      "67\n",
      "4297\n",
      "2111\n",
      "37\n",
      "3547\n",
      "929\n",
      "4073\n",
      "1031\n",
      "1583\n",
      "2311\n",
      "1061\n",
      "2887\n",
      "4241\n",
      "691\n",
      "2281\n",
      "2837\n",
      "3511\n",
      "2333\n",
      "2441\n",
      "2969\n",
      "4801\n",
      "1381\n",
      "4231\n",
      "563\n",
      "241\n",
      "2267\n",
      "4517\n",
      "3373\n",
      "3343\n",
      "4817\n",
      "1999\n",
      "4373\n",
      "1637\n",
      "881\n"
     ]
    }
   ],
   "source": [
    "print_linked_list(first_coach)"
   ]
  },
  {
   "cell_type": "code",
   "execution_count": null,
   "metadata": {},
   "outputs": [],
   "source": []
  }
 ],
 "metadata": {
  "kernelspec": {
   "display_name": "Python 3",
   "language": "python",
   "name": "python3"
  },
  "language_info": {
   "codemirror_mode": {
    "name": "ipython",
    "version": 3
   },
   "file_extension": ".py",
   "mimetype": "text/x-python",
   "name": "python",
   "nbconvert_exporter": "python",
   "pygments_lexer": "ipython3",
   "version": "3.7.6"
  }
 },
 "nbformat": 4,
 "nbformat_minor": 4
}
